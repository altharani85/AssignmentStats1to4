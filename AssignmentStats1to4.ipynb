{
 "cells": [
  {
   "cell_type": "markdown",
   "metadata": {},
   "source": [
    "# Assignment Stats1"
   ]
  },
  {
   "cell_type": "markdown",
   "metadata": {},
   "source": [
    "# Problem Statement 1"
   ]
  },
  {
   "cell_type": "code",
   "execution_count": 1,
   "metadata": {},
   "outputs": [
    {
     "name": "stdout",
     "output_type": "stream",
     "text": [
      "Calculation using custom method\n",
      "Mean: 1158.33\n",
      "variance:135416.67\n",
      "std_dev:367.99 \n",
      "Calculation using statistics library\n",
      "Mean: 1158.33\n",
      "Variance:135416.67\n",
      "std_dev:367.99\n"
     ]
    }
   ],
   "source": [
    "'''\n",
    "You survey households in your area to find the average rent they are paying. Find the\n",
    "standard deviation from the following data:\n",
    "$1550, $1700, $900, $850, $1000, $950.\n",
    "'''\n",
    "def find_mean(arr):\n",
    " return sum(arr)/len(arr)\n",
    "\n",
    "def find_variance(arr):\n",
    " variance = 0.0\n",
    " from math import sqrt\n",
    " \n",
    " mean = find_mean(arr)\n",
    " variance = sum((x - mean)**2 for x in arr) / (len(arr)-1)\n",
    " return variance\n",
    "\n",
    "def find_std_dev(arr):\n",
    " return find_variance(arr)**0.5\n",
    "\n",
    "arr = [1550,1700,900,850,1000,950]\n",
    "\n",
    "print(\"Calculation using custom method\")\n",
    "print (\"Mean: {:.2f}\".format(find_mean(arr)))\n",
    "print (\"variance:{:.2f}\".format(find_variance(arr)))\n",
    "print(\"std_dev:{:.2f} \".format(find_std_dev(arr)))\n",
    "\n",
    "print(\"Calculation using statistics library\")\n",
    "import statistics as stat\n",
    "print(\"Mean: {:.2f}\".format(stat.mean(arr)))\n",
    "print(\"Variance:{:.2f}\".format(stat.variance(arr)))\n",
    "print(\"std_dev:{:.2f}\".format(stat.stdev(arr)))"
   ]
  },
  {
   "cell_type": "markdown",
   "metadata": {},
   "source": [
    "# Problem Statement2"
   ]
  },
  {
   "cell_type": "code",
   "execution_count": 1,
   "metadata": {},
   "outputs": [
    {
     "name": "stdout",
     "output_type": "stream",
     "text": [
      "Mean:  58.5\n",
      "variance:  6219.9\n"
     ]
    }
   ],
   "source": [
    "'''Find the variance for the following set of data representing trees in California (heights in\n",
    "feet):\n",
    "3, 21, 98, 203, 17, 9\n",
    "'''\n",
    "arr = [3,21,98,203,17,9]\n",
    "def find_mean(arr):\n",
    " return sum(arr)/len(arr)\n",
    "\n",
    "def find_variance(arr):\n",
    " variance = 0.0\n",
    " from math import sqrt\n",
    " \n",
    " mean = find_mean(arr)\n",
    " variance = sum((x - mean)**2 for x in arr) / (len(arr)-1)\n",
    " return variance\n",
    "\n",
    "print (\"Mean: \" , str(find_mean(arr)))\n",
    "print (\"variance: \" , str(find_variance(arr)))"
   ]
  },
  {
   "cell_type": "markdown",
   "metadata": {},
   "source": [
    "# Problem Statement3"
   ]
  },
  {
   "cell_type": "code",
   "execution_count": 2,
   "metadata": {},
   "outputs": [
    {
     "name": "stdout",
     "output_type": "stream",
     "text": [
      "The Probability of students failed in 0 subjects:\n",
      "P(X=0): 0.8\n",
      "The Probability of students failed in 1 subjects:\n",
      "P(X=1): 0.1\n",
      "The Probability of students failed in 2 subjects:\n",
      "P(X=2): 0.02\n",
      "The Probability of students failed in 0 subjects:\n",
      "P(X=3): 0.03\n"
     ]
    }
   ],
   "source": [
    "'''\n",
    "In a class on 100 students, 80 students passed in all subjects, 10 failed in one subject, 7\n",
    "failed in two subjects and 3 failed in three subjects. Find the probability distribution of\n",
    "the variable for number of subjects a student from the given class has failed in.\n",
    "'''\n",
    "def Probability_Class():\n",
    "    n=100\n",
    "    zero_s_Fail = 80\n",
    "    one_s_Fail = 10\n",
    "    two_s_Fail = 2\n",
    "    three_s_Fail = 3\n",
    "    print(\"The Probability of students failed in 0 subjects:\\nP(X=0):\",str(zero_s_Fail/n))\n",
    "    print(\"The Probability of students failed in 1 subjects:\\nP(X=1):\",str(one_s_Fail/n))\n",
    "    print(\"The Probability of students failed in 2 subjects:\\nP(X=2):\",str(two_s_Fail/n))\n",
    "    print(\"The Probability of students failed in 0 subjects:\\nP(X=3):\",str(three_s_Fail/n))\n",
    "Probability_Class()"
   ]
  },
  {
   "cell_type": "markdown",
   "metadata": {},
   "source": [
    "# Assignment Stats2"
   ]
  },
  {
   "cell_type": "code",
   "execution_count": 3,
   "metadata": {},
   "outputs": [],
   "source": [
    "import numpy as np\n",
    "import math\n",
    "'''\n",
    "A test is conducted which is consisting of 20 MCQs (multiple choices questions) with every\n",
    "MCQ having its four options out of which only one is correct. Determine the probability that\n",
    "a person undertaking that test has answered exactly 5 questions wrong.\n",
    "\n",
    "'''\n",
    "def probobility_MCQ():\n",
    "    n = 20\n",
    "    p_s = 1/4\n",
    "    p_f = 3/4\n",
    "    k = 5\n",
    "    '''\n",
    "    (20!/5!)*(power(1/4)**5)*(power(3/4)**15)\n",
    "    '''\n",
    "    numerator = math.factorial(20)\n",
    "    denomenator = math.factorial(5)\n",
    "    p_value=pow(0.25,5)\n",
    "    q_value = pow(0.75,15)\n",
    "    result =( numerator / denomenator ) * p_value * q_value\n",
    "    print(result)\n",
    "    "
   ]
  },
  {
   "cell_type": "code",
   "execution_count": 4,
   "metadata": {},
   "outputs": [
    {
     "name": "stdout",
     "output_type": "stream",
     "text": [
      "264583261131.21564\n"
     ]
    }
   ],
   "source": [
    "probobility_MCQ()"
   ]
  },
  {
   "cell_type": "code",
   "execution_count": 5,
   "metadata": {},
   "outputs": [],
   "source": [
    "'''A die marked A to E is rolled 50 times. Find the probability of getting a “D” exactly\n",
    "5 times.\n",
    "'''\n",
    "def probability_D():\n",
    "    n = 50\n",
    "    p_s = 1/5\n",
    "    p_f = 4/5\n",
    "    k = 5\n",
    "    '''\n",
    "    (50!/5!)*(power(1/5)**5)*(power(4/5)**45)\n",
    "    '''\n",
    "    numerator = math.factorial(50)\n",
    "    denomenator = math.factorial(5)\n",
    "    p_value=pow(0.2,5)\n",
    "    q_value = pow(0.8,45)\n",
    "    result =( numerator / denomenator ) * p_value * q_value\n",
    "    print(\"The Probability of getting a D exactly:\",result,\"Times\")"
   ]
  },
  {
   "cell_type": "code",
   "execution_count": 6,
   "metadata": {},
   "outputs": [
    {
     "name": "stdout",
     "output_type": "stream",
     "text": [
      "The Probability of getting a D exactly: 3.532588244457158e+54 Times\n"
     ]
    }
   ],
   "source": [
    "probability_D()"
   ]
  },
  {
   "cell_type": "code",
   "execution_count": 7,
   "metadata": {},
   "outputs": [],
   "source": [
    "'''\n",
    "Two balls are drawn at random in succession without replacement from an urn\n",
    "containing 4 red balls and 6 black balls.\n",
    "Find the probabilities of all the possible outcomes.\n",
    "'''\n",
    "def probability_PO():\n",
    "    RR = (4/10) * (3/9)\n",
    "    RB = (4/10) * (6/9)\n",
    "    BR = (6/10) * (4/9)\n",
    "    BB = (6/10) * (5/9)\n",
    "    print(\"The Probability of the events:\")\n",
    "    print(\"The Probability of the event RR:\",RR)\n",
    "    print(\"The Probability of the event RB:\",RB)\n",
    "    print(\"The Probability of the event BR:\",BR)\n",
    "    print(\"The Probability of the event RR:\",BB)\n",
    "    Z = RR + RB + BR + BB\n",
    "    print(\"The Probability of all the outcomes: \",Z)"
   ]
  },
  {
   "cell_type": "code",
   "execution_count": 8,
   "metadata": {},
   "outputs": [
    {
     "name": "stdout",
     "output_type": "stream",
     "text": [
      "The Probability of the events:\n",
      "The Probability of the event RR: 0.13333333333333333\n",
      "The Probability of the event RB: 0.26666666666666666\n",
      "The Probability of the event BR: 0.26666666666666666\n",
      "The Probability of the event RR: 0.3333333333333333\n",
      "The Probability of all the outcomes:  1.0\n"
     ]
    }
   ],
   "source": [
    "probability_PO()"
   ]
  },
  {
   "cell_type": "markdown",
   "metadata": {},
   "source": [
    "# Assignment Stats3"
   ]
  },
  {
   "cell_type": "markdown",
   "metadata": {},
   "source": [
    "# Problem Statement 1:"
   ]
  },
  {
   "cell_type": "code",
   "execution_count": 9,
   "metadata": {},
   "outputs": [
    {
     "name": "stdout",
     "output_type": "stream",
     "text": [
      "Z-Score: 3.2\n"
     ]
    }
   ],
   "source": [
    "'''\n",
    "Blood glucose levels for obese patients have a mean of 100 with a standard deviation of\n",
    "15. A researcher thinks that a diet high in raw cornstarch will have a positive effect on\n",
    "blood glucose levels. A sample of 36 patients who have tried the raw cornstarch diet\n",
    "have a mean glucose level of 108. Test the hypothesis that the raw cornstarch had an\n",
    "effect or not.\n",
    "'''\n",
    "import math\n",
    "n = 36\n",
    "sample_mean = 108\n",
    "population_mean = 100\n",
    "p_sd = 15\n",
    "# Step 1: Setting up the Hypothesis.\n",
    "# population mean = 100\n",
    "#H0: μ=100 ==> null hypothesis\n",
    "# H1:μ≠100  ==> Alternate hypothesis\n",
    "# Step 2: Check for the condition,sample size>30\n",
    "# Step 3: Calculating the Z-Score\n",
    "z = (sample_mean - population_mean)/(p_sd / math.sqrt(n))\n",
    "print(\"Z-Score:\",z)\n",
    "# by looking at z- table and p-value associated with 3.20 is 0.9993 \n",
    "# The probability of having value less than 108 is 0.9993 and more than or equals to 108 is (1-0.9993)=0.0007.\n",
    "\n",
    "# Step 4: Sice the probability of having mean glucose level more than or equals to 108  is 0.0007 which is  less than 0.05 \n",
    "# so we will reject the Null hypothesis and go with Alternate hypothesis. i.e. there is raw cornstarch effect.\n"
   ]
  },
  {
   "cell_type": "markdown",
   "metadata": {},
   "source": [
    "# Problem Statement 2"
   ]
  },
  {
   "cell_type": "code",
   "execution_count": 10,
   "metadata": {},
   "outputs": [
    {
     "name": "stdout",
     "output_type": "stream",
     "text": [
      "Mu :0.05  Std :0.07\n",
      "Z_score(p1,p2) : -0.7080\n"
     ]
    }
   ],
   "source": [
    "'''\n",
    "In one state, 52% of the voters are Republicans, and 48% are Democrats. In a second\n",
    "state, 47% of the voters are Republicans, and 53% are Democrats. Suppose a simple\n",
    "random sample of 100 voters are surveyed from each state.\n",
    "What is the probability that the survey will show a greater percentage of Republican\n",
    "voters in the second state than in the first state?\n",
    "'''\n",
    "#P1 = the proportion of Republican voters in the 1st state\n",
    "#P2 = the proportion of Republican voters in the 2nd state\n",
    "#p1 = the proportion of Republican voters in the sample from the 1st state\n",
    "#p2 = the proportion of Republican voters in the sample from the 2nd state. \n",
    "\n",
    "#The number of voters sampled from the first state = n1\n",
    "n1 = 100\n",
    "#The number of voters sampled from the second state = n2 \n",
    "n2 = 100\n",
    "\n",
    "P1 = 0.52\n",
    "#(1 - P1) = Q1\n",
    "Q1 = 0.48\n",
    "P2 = 0.47\n",
    "#(1 - P2) = Q2\n",
    "Q2 = 0.53\n",
    "\n",
    "\n",
    "#The mean of the difference in sample proportions .i.e Expected Value E[p1 -p2] = P1 - P2 = mu\n",
    "mu =  P1 - P2\n",
    "\n",
    "#The standard deviation of the difference (std)\n",
    "std = math.sqrt(((P1 * Q1 ) / n1) + ((P2 * Q2) /n2))\n",
    "print(\"Mu :{:.2f} \".format(mu),\"Std :{:.2f}\".format(std))\n",
    "\n",
    "#This problem requires us to find the probability that p1 is less than p2. \n",
    "#This is equivalent to finding the probability that p1 - p2 < 0. \n",
    "x = 0\n",
    "#To find this probability, we need to transform the random variable (p1 - p2) into a z-score. \n",
    "#That transformation appears below.\n",
    "Z_p1_p2 = ( x - mu)/std\n",
    "\n",
    "print(\"Z_score(p1,p2) : {:.4f}\".format(Z_p1_p2))\n",
    "\n",
    "#From Z table we find that the probability of a z-score being -0.7082 or less is 0.24.\n",
    "\n",
    "#Therefore, the probability that the survey will show a greater percentage of Republican voters \n",
    "#in the second state than in the first state is 0.24."
   ]
  },
  {
   "cell_type": "markdown",
   "metadata": {},
   "source": [
    "# Problem Statement 3:"
   ]
  },
  {
   "cell_type": "code",
   "execution_count": 11,
   "metadata": {},
   "outputs": [
    {
     "name": "stdout",
     "output_type": "stream",
     "text": [
      "Z-Score:0.3541\n",
      "My Score is in the range 817 - 1235  with a  zscore 0.35\n"
     ]
    }
   ],
   "source": [
    "'''\n",
    "You take the SAT and score 1100. The mean score for the SAT is 1026 and the standard\n",
    "deviation is 209. How well did you score on the test compared to the average test taker?\n",
    "'''\n",
    "mu = 1026 #mu\n",
    "sd = 209\n",
    "x = 1100\n",
    "z = (x-mu)/sd\n",
    "print(\"Z-Score:{:.4f}\".format(z))\n",
    "#the above calculation shows that my score is 0.35 standard deviations above the mean\n",
    "print(\"My Score is in the range {} - {}  with a  zscore {:.2f}\".format(mu - sd,mu + sd,z))"
   ]
  },
  {
   "cell_type": "markdown",
   "metadata": {},
   "source": [
    "# Assignment Stats4"
   ]
  },
  {
   "cell_type": "markdown",
   "metadata": {},
   "source": [
    "# Problem Statement 1:"
   ]
  },
  {
   "cell_type": "code",
   "execution_count": 5,
   "metadata": {},
   "outputs": [
    {
     "data": {
      "text/plain": [
       "array([60, 54, 46, 41, 201, 40, 44, 53, 57, 194], dtype=object)"
      ]
     },
     "execution_count": 5,
     "metadata": {},
     "output_type": "execute_result"
    }
   ],
   "source": [
    "'''\n",
    "Is gender independent of education level? A random sample of 395 people were\n",
    "surveyed and each person was asked to report the highest education level they\n",
    "obtained. The data that resulted from the survey is summarized in the following table:\n",
    "High School Bachelors Masters Ph.d. Total\n",
    "Female 60 54 46 41 201\n",
    "Male   40 44 53 57 194\n",
    "Total 100 98 99 98 395\n",
    "Question: Are gender and education level dependent at 5% level of significance? In\n",
    "other words, given the data collected above, is there a relationship between the\n",
    "gender of an individual and the level of education that they have obtained?\n",
    "'''\n",
    "import pandas as pd\n",
    "import numpy as np\n",
    "\n",
    "\n",
    "d = {'Gender':['Female','Male','Total'],'High School':[60,40,100],'Bachelors':[54,44,98],'Masters':[46,53,99],'Ph.d':[41,57,98],'Total':[201,194,395]}\n",
    "df = pd.DataFrame(data=d)\n",
    "df_obs = np.append(df.iloc[0][1:6].values,df.iloc[1][1:6].values)\n",
    "df_obs\n"
   ]
  },
  {
   "cell_type": "code",
   "execution_count": 6,
   "metadata": {},
   "outputs": [],
   "source": [
    "row_sums = df.iloc[0:3,5].values\n",
    "col_sums = df.iloc[2,1:6].values"
   ]
  },
  {
   "cell_type": "code",
   "execution_count": 7,
   "metadata": {},
   "outputs": [
    {
     "data": {
      "text/plain": [
       "[50.88607594936709,\n",
       " 49.868354430379746,\n",
       " 50.37721518987342,\n",
       " 49.868354430379746,\n",
       " 201.0,\n",
       " 49.11392405063291,\n",
       " 48.131645569620254,\n",
       " 48.62278481012658,\n",
       " 48.131645569620254,\n",
       " 194.0]"
      ]
     },
     "execution_count": 7,
     "metadata": {},
     "output_type": "execute_result"
    }
   ],
   "source": [
    "total = df.loc[2, 'Total']\n",
    "f_expected = []\n",
    "for i in range(2):\n",
    "    for j in col_sums:\n",
    "        f_expected.append(j*row_sums[i]/total)\n",
    "f_expected"
   ]
  },
  {
   "cell_type": "code",
   "execution_count": 8,
   "metadata": {},
   "outputs": [
    {
     "name": "stdout",
     "output_type": "stream",
     "text": [
      "Chi-squared Statistic: 8.01\n"
     ]
    }
   ],
   "source": [
    "chi_squared_statistic = ((df_obs - f_expected)**2/f_expected).sum()\n",
    "print('Chi-squared Statistic: {:.2f}'.format(chi_squared_statistic))"
   ]
  },
  {
   "cell_type": "code",
   "execution_count": 57,
   "metadata": {},
   "outputs": [
    {
     "name": "stdout",
     "output_type": "stream",
     "text": [
      "Degrees of Freedom: 8\n"
     ]
    }
   ],
   "source": [
    "dof = (len(row_sums)-1)*(len(col_sums)-1)\n",
    "print(\"Degrees of Freedom: {}\".format(dof))"
   ]
  },
  {
   "cell_type": "code",
   "execution_count": 12,
   "metadata": {},
   "outputs": [
    {
     "name": "stdout",
     "output_type": "stream",
     "text": [
      "H0 => Null Hypothesis states that there is no relationship between the gender of an individual and the level of education.\n",
      "H1 => Alternate hypothesis states that there a relationship between the gender of an individual and the level of education.\n",
      "At 5% level of significance: 15.51\n",
      "Calculated Chi-squared Statistic:8.01\n",
      "Calculated Chi-squared statistic 8.01 < 15.51 at 5 % level of significance,so we accept Alternative Hypothesis.\n"
     ]
    }
   ],
   "source": [
    "# Stating the Hypothesis\n",
    "print(\"H0 => Null Hypothesis states that there is no relationship between the gender of an individual and the level of education.\")\n",
    "\n",
    "print(\"H1 => Alternate hypothesis states that there a relationship between the gender of an individual and the level of education.\")\n",
    "# Significance Level\n",
    "# 5 % level of significance.\n",
    "print(\"At 5% level of significance: 15.51\")\n",
    "print(\"Calculated Chi-squared Statistic:{:.2f}\".format(chi_squared_statistic))\n",
    "print(\"Calculated Chi-squared statistic 8.01 < 15.51 at 5 % level of significance,so we accept Alternative Hypothesis.\")"
   ]
  },
  {
   "cell_type": "markdown",
   "metadata": {},
   "source": [
    "# Problem Statement 2:"
   ]
  },
  {
   "cell_type": "code",
   "execution_count": 12,
   "metadata": {},
   "outputs": [],
   "source": [
    "'''\n",
    "Using the following data, perform a oneway analysis of variance using α=.05. Write\n",
    "up the results in APA format.\n",
    "\n",
    "[Group1: 51, 45, 33, 45, 67]\n",
    "[Group2: 23, 43, 23, 43, 45]\n",
    "[Group3: 56, 76, 74, 87, 56]\n",
    "'''\n",
    "def oneway_anova():\n",
    "    # Setting up Hypothesis\n",
    "    #Ho = Mu1 = Mu2 = Mu3\n",
    "    #Ha = Mu1 # Mu2 # M3\n",
    "    alpha = 0.05\n",
    "    Degrees_freedom_bw = 2\n",
    "    Degrees_freedom_wn = 12\n",
    "    Degrees_Total = 14\n",
    "    F_Critical = 3.74 # From F-table with respect to Degrees of freedom.\n",
    "    print(\"F-Critical Value: \",F_Critical)\n",
    "    #Finding the Means\n",
    "    X1 = 48.2\n",
    "    X2 = 35.4\n",
    "    X3 = 69.8\n",
    "    Grand_Mean = 51.13333\n",
    "    SS_Total = 4883.733\n",
    "    SS_Within = 1860.8\n",
    "    print(\"Sum of mean square Total:\",SS_Total)\n",
    "    print(\"Sum of mean squares Total_Within:\",SS_Within)\n",
    "    SS_between = SS_Total - SS_Within\n",
    "    print(\"Sum of mean squares between:\",SS_between)\n",
    "    #Finding Variances\n",
    "    MS_between = SS_between / Degrees_freedom_bw\n",
    "    print(\"Mean square variances between:\",MS_between)\n",
    "    MS_Within = SS_Within / Degrees_freedom_wn\n",
    "    print(\"Mean sqaure variances within:\",MS_Within)\n",
    "    F_Statistic = MS_between / MS_Within\n",
    "    print(\"The F-Statistic:\",F_Statistic)\n",
    "    print(\"F-Statistic is \"+ \">\" + \" F-Critical value\")\n",
    "    print(\"9.748\" + \">\" + \" 3.74, So rejecting the null Hypothesis and accepting Alternate Hypothesis\")"
   ]
  },
  {
   "cell_type": "code",
   "execution_count": 13,
   "metadata": {},
   "outputs": [
    {
     "name": "stdout",
     "output_type": "stream",
     "text": [
      "F-Critical Value:  3.74\n",
      "Sum of mean square Total: 4883.733\n",
      "Sum of mean squares Total_Within: 1860.8\n",
      "Sum of mean squares between: 3022.933\n",
      "Mean square variances between: 1511.4665\n",
      "Mean sqaure variances within: 155.06666666666666\n",
      "The F-Statistic: 9.747204428202924\n",
      "F-Statistic is > F-Critical value\n",
      "9.748> 3.74, So rejecting the null Hypothesis and accepting Alternate Hypothesis\n"
     ]
    }
   ],
   "source": [
    "oneway_anova()"
   ]
  },
  {
   "cell_type": "markdown",
   "metadata": {},
   "source": [
    "# Problem Statement 3:"
   ]
  },
  {
   "cell_type": "code",
   "execution_count": 14,
   "metadata": {},
   "outputs": [],
   "source": [
    "'''\n",
    "Calculate F Test for given 10, 20, 30, 40, 50 and 5,10,15, 20, 25.\n",
    "For 10, 20, 30, 40, 50:\n",
    "'''\n",
    "def F_Test():\n",
    "    # Setting up Hypothesis\n",
    "    #Ho = Mu1 = Mu2 \n",
    "    #Ha = Mu1 # Mu2 \n",
    "    alpha = 0.05\n",
    "    Degrees_freedom_bw = 1\n",
    "    Degrees_freedom_wn = 8\n",
    "    Degrees_Total = 9\n",
    "    F_Critical = 5.32 # From F-table with respect to Degrees of freedom.\n",
    "    print(\"F-Critical Value: \",F_Critical)\n",
    "    #Finding the Means\n",
    "    X1 = 30\n",
    "    X2 = 15\n",
    "    \n",
    "    Grand_Mean = 22.5\n",
    "    SS_Total = 2937.5\n",
    "    SS_Within = 1250\n",
    "    print(\"Sum of mean square Total:\",SS_Total)\n",
    "    print(\"Sum of mean squares Total_Within:\",SS_Within)\n",
    "    SS_between = SS_Total - SS_Within\n",
    "    print(\"Sum of mean squares between:\",SS_between)\n",
    "    #Finding Variances\n",
    "    MS_between = SS_between / Degrees_freedom_bw\n",
    "    print(\"Mean square variances between:\",MS_between)\n",
    "    MS_Within = SS_Within / Degrees_freedom_wn\n",
    "    print(\"Mean sqaure variances within:\",MS_Within)\n",
    "    F_Statistic = MS_between / MS_Within\n",
    "    print(\"The F-Statistic:\",F_Statistic)\n",
    "    print(\"F-Statistic is \"+ \">\" + \" F-Critical value\")\n",
    "    print(\"10.8\" + \" >\" + \" 5.32, So rejecting the null Hypothesis and accepting Alternate Hypothesis\")\n",
    "    "
   ]
  },
  {
   "cell_type": "code",
   "execution_count": 15,
   "metadata": {},
   "outputs": [
    {
     "name": "stdout",
     "output_type": "stream",
     "text": [
      "F-Critical Value:  5.32\n",
      "Sum of mean square Total: 2937.5\n",
      "Sum of mean squares Total_Within: 1250\n",
      "Sum of mean squares between: 1687.5\n",
      "Mean square variances between: 1687.5\n",
      "Mean sqaure variances within: 156.25\n",
      "The F-Statistic: 10.8\n",
      "F-Statistic is > F-Critical value\n",
      "10.8 > 5.32, So rejecting the null Hypothesis and accepting Alternate Hypothesis\n"
     ]
    }
   ],
   "source": [
    "F_Test()"
   ]
  },
  {
   "cell_type": "code",
   "execution_count": null,
   "metadata": {},
   "outputs": [],
   "source": []
  }
 ],
 "metadata": {
  "kernelspec": {
   "display_name": "Python 3",
   "language": "python",
   "name": "python3"
  },
  "language_info": {
   "codemirror_mode": {
    "name": "ipython",
    "version": 3
   },
   "file_extension": ".py",
   "mimetype": "text/x-python",
   "name": "python",
   "nbconvert_exporter": "python",
   "pygments_lexer": "ipython3",
   "version": "3.7.1"
  }
 },
 "nbformat": 4,
 "nbformat_minor": 2
}
